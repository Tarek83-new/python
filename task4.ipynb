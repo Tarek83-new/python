{
  "nbformat": 4,
  "nbformat_minor": 0,
  "metadata": {
    "colab": {
      "provenance": []
    },
    "kernelspec": {
      "name": "python3",
      "display_name": "Python 3"
    },
    "language_info": {
      "name": "python"
    }
  },
  "cells": [
    {
      "cell_type": "code",
      "execution_count": 8,
      "metadata": {
        "id": "7XRmPZORDKhW",
        "colab": {
          "base_uri": "https://localhost:8080/"
        },
        "outputId": "14f8737e-d949-41fc-98d7-98cd042500f8"
      },
      "outputs": [
        {
          "output_type": "stream",
          "name": "stdout",
          "text": [
            "Car(brand=Toyota, year=2020, price=20000)\n",
            "Car(brand=Honda, year=2019, price=18000)\n",
            "Total number of cars: 2\n",
            "Car Info: Cars are a popular mode of transportation.\n"
          ]
        }
      ],
      "source": [
        "class Car:\n",
        "    # Class variable to keep track of the number of Car instances\n",
        "    car_count = 0\n",
        "\n",
        "    def __init__(self, brand, year, price):\n",
        "        self.brand = brand\n",
        "        self.year = year\n",
        "        self.price = price\n",
        "        Car.car_count += 1  # Increment the car count whenever a new Car instance is created\n",
        "\n",
        "    @classmethod\n",
        "    def get_car_count(cls):\n",
        "        \"\"\"Return the current count of Car instances.\"\"\"\n",
        "        return cls.car_count\n",
        "\n",
        "    @staticmethod\n",
        "    def car_info(info):\n",
        "        \"\"\"Return information about cars in general.\"\"\"\n",
        "        return f\"Car Info: {info}\"\n",
        "\n",
        "    def __str__(self):\n",
        "        \"\"\"Return a string representation of the Car instance.\"\"\"\n",
        "        return f\"Car(brand={self.brand}, year={self.year}, price={self.price})\"\n",
        "\n",
        "# Example usage\n",
        "if __name__ == \"__main__\":\n",
        "    car1 = Car(brand=\"Toyota\", year=2020, price=20000)\n",
        "    car2 = Car(brand=\"Honda\", year=2019, price=18000)\n",
        "\n",
        "    print(car1)  # Output: Car(brand=Toyota, year=2020, price=20000)\n",
        "    print(car2)  # Output: Car(brand=Honda, year=2019, price=18000)\n",
        "\n",
        "    print(f\"Total number of cars: {Car.get_car_count()}\")  # Output: Total number of cars: 2\n",
        "\n",
        "    print(Car.car_info(\"Cars are a popular mode of transportation.\"))  # Output: Car Info: Cars are a popular mode of transportation.\n",
        "\n",
        "\n",
        "\n",
        "\n"
      ]
    },
    {
      "cell_type": "code",
      "source": [
        "\n",
        "class BankAccount:\n",
        "    # Class attribute shared among all instances\n",
        "    interest_rate = 0.05\n",
        "\n",
        "    def __init__(self, name, balance=0):\n",
        "        self.name = name\n",
        "        self.balance = balance\n",
        "\n",
        "    @classmethod\n",
        "    def set_interest_rate(cls, rate):\n",
        "        \"\"\"Set the interest rate for all bank accounts.\"\"\"\n",
        "        cls.interest_rate = rate\n",
        "\n",
        "    @classmethod\n",
        "    def get_interest_rate(cls):\n",
        "        \"\"\"Get the current interest rate.\"\"\"\n",
        "        return cls.interest_rate\n",
        "\n",
        "    def add_money(self, amount):\n",
        "        \"\"\"Add a specific amount to the balance.\"\"\"\n",
        "        if amount > 0:\n",
        "            self.balance += amount\n",
        "            print(f\"Added {amount} to {self.name}'s account. New balance: {self.balance}\")\n",
        "        else:\n",
        "            print(\"Amount must be positive to add money.\")\n",
        "\n",
        "    def withdraw_money(self, amount):\n",
        "        \"\"\"Withdraw a specific amount from the balance.\"\"\"\n",
        "        if 0 < amount <= self.balance:\n",
        "            self.balance -= amount\n",
        "            print(f\"Withdrew {amount} from {self.name}'s account. New balance: {self.balance}\")\n",
        "        else:\n",
        "            print(\"Invalid amount to withdraw.\")\n",
        "\n",
        "    def get_account_balance(self):\n",
        "        \"\"\"Return the current balance of the account.\"\"\"\n",
        "        return self.balance\n",
        "\n",
        "    def calculate_annual_interest(self):\n",
        "        \"\"\"Return the annual interest on the account.\"\"\"\n",
        "        return self.balance * BankAccount.interest_rate\n",
        "\n",
        "    def __str__(self):\n",
        "        \"\"\"Return a string representation of the bank account.\"\"\"\n",
        "        return f\"BankAccount(name={self.name}, balance={self.balance}, interest_rate={BankAccount.interest_rate})\"\n",
        "\n",
        "# Example usage\n",
        "if __name__ == \"__main__\":\n",
        "    account1 = BankAccount(name=\"Alice\", balance=1000)\n",
        "    account2 = BankAccount(name=\"Bob\", balance=500)\n",
        "\n",
        "    print(account1)  # Output: BankAccount(name=Alice, balance=1000, interest_rate=0.05)\n",
        "    print(account2)  # Output: BankAccount(name=Bob, balance=500, interest_rate=0.05)\n",
        "\n",
        "    # Add money to accounts\n",
        "    account1.add_money(200)\n",
        "    account2.add_money(300)\n",
        "\n",
        "    # Withdraw money from accounts\n",
        "    account1.withdraw_money(150)\n",
        "    account2.withdraw_money(100)\n",
        "\n",
        "    # Get account balances\n",
        "    print(f\"{account1.name}'s balance: {account1.get_account_balance()}\")  # Output: Alice's balance: 1050\n",
        "    print(f\"{account2.name}'s balance: {account2.get_account_balance()}\")  # Output: Bob's balance: 700\n",
        "\n",
        "    # Calculate annual interest\n",
        "    print(f\"{account1.name}'s annual interest: {account1.calculate_annual_interest()}\")  # Output: Alice's annual interest: 52.5\n",
        "    print(f\"{account2.name}'s annual interest: {account2.calculate_annual_interest()}\")  # Output: Bob's annual interest: 35.0\n",
        "\n",
        "    # Get and set interest rate\n",
        "    print(f\"Current interest rate: {BankAccount.get_interest_rate()}\")  # Output: Current interest rate: 0.05\n",
        "    BankAccount.set_interest_rate(0.07)\n",
        "    print(f\"New interest rate: {BankAccount.get_interest_rate()}\")  # Output: New interest rate: 0.07\n",
        "\n",
        "    print(account1)  # Output: BankAccount(name=Alice, balance=1050, interest_rate=0.07)\n",
        "    print(account2)  # Output: BankAccount(name=Bob, balance=700, interest_rate=0.07)\n"
      ],
      "metadata": {
        "colab": {
          "base_uri": "https://localhost:8080/"
        },
        "id": "N7q99JpFbWxg",
        "outputId": "a9054c35-a06e-4a62-cf52-4eec1404e5a0"
      },
      "execution_count": 15,
      "outputs": [
        {
          "output_type": "stream",
          "name": "stdout",
          "text": [
            "BankAccount(name=Alice, balance=1000, interest_rate=0.05)\n",
            "BankAccount(name=Bob, balance=500, interest_rate=0.05)\n",
            "Added 200 to Alice's account. New balance: 1200\n",
            "Added 300 to Bob's account. New balance: 800\n",
            "Withdrew 150 from Alice's account. New balance: 1050\n",
            "Withdrew 100 from Bob's account. New balance: 700\n",
            "Alice's balance: 1050\n",
            "Bob's balance: 700\n",
            "Alice's annual interest: 52.5\n",
            "Bob's annual interest: 35.0\n",
            "Current interest rate: 0.05\n",
            "New interest rate: 0.07\n",
            "BankAccount(name=Alice, balance=1050, interest_rate=0.07)\n",
            "BankAccount(name=Bob, balance=700, interest_rate=0.07)\n"
          ]
        }
      ]
    },
    {
      "cell_type": "code",
      "source": [
        "class Person:\n",
        "    def __init__(self, name, last_name, age):\n",
        "        self.__name = name\n",
        "        self.__last_name = last_name\n",
        "        self.__age = age\n",
        "\n",
        "    # Getter for name\n",
        "    @property\n",
        "    def name(self):\n",
        "        return self.__name\n",
        "\n",
        "    # Setter for name\n",
        "    @name.setter\n",
        "    def name(self, value):\n",
        "        self.__name = value\n",
        "\n",
        "    # Getter for last_name\n",
        "    @property\n",
        "    def last_name(self):\n",
        "        return self.__last_name\n",
        "\n",
        "    # Setter for last_name\n",
        "    @last_name.setter\n",
        "    def last_name(self, value):\n",
        "        self.__last_name = value\n",
        "\n",
        "    # Getter for age\n",
        "    @property\n",
        "    def age(self):\n",
        "        return self.__age\n",
        "\n",
        "    # Setter for age\n",
        "    @age.setter\n",
        "    def age(self, value):\n",
        "        if value >= 0:  # Ensure age is non-negative\n",
        "            self.__age = value\n",
        "        else:\n",
        "            raise ValueError(\"Age must be a non-negative integer\")\n",
        "\n",
        "    def __str__(self):\n",
        "        \"\"\"Return a string representation of the person.\"\"\"\n",
        "        return f\"Person(name={self.__name}, last_name={self.__last_name}, age={self.__age})\"\n",
        "\n",
        "# Example usage\n",
        "if __name__ == \"__main__\":\n",
        "    person = Person(name=\"John\", last_name=\"Doe\", age=30)\n",
        "\n",
        "    # Accessing attributes using property methods\n",
        "    print(person.name)  # Output: John\n",
        "    print(person.last_name)  # Output: Doe\n",
        "    print(person.age)  # Output: 30\n",
        "\n",
        "    # Modifying attributes using setter methods\n",
        "    person.name = \"Jane\"\n",
        "    person.last_name = \"Smith\"\n",
        "    person.age = 25\n",
        "\n",
        "    print(person)  # Output: Person(name=Jane, last_name=Smith, age=25)\n",
        "\n",
        "    # Attempting to set a negative age (will raise ValueError)\n",
        "    try:\n",
        "        person.age = -5\n",
        "    except ValueError as e:\n",
        "        print(e)  # Output: Age must be a non-negative integer\n",
        "\n"
      ],
      "metadata": {
        "colab": {
          "base_uri": "https://localhost:8080/"
        },
        "id": "MWn0su8GpByT",
        "outputId": "953b9201-399b-4b3d-cf3f-a746a07f89bf"
      },
      "execution_count": 16,
      "outputs": [
        {
          "output_type": "stream",
          "name": "stdout",
          "text": [
            "John\n",
            "Doe\n",
            "30\n",
            "Person(name=Jane, last_name=Smith, age=25)\n",
            "Age must be a non-negative integer\n"
          ]
        }
      ]
    },
    {
      "cell_type": "code",
      "source": [
        "class Employee:\n",
        "    def __init__(self, name, salary):\n",
        "        self.name = name\n",
        "        self.salary = salary\n",
        "\n",
        "    def __str__(self):\n",
        "        return f\"Employee(name={self.name}, salary={self.salary})\"\n",
        "\n",
        "class Manager:\n",
        "    def __init__(self, department):\n",
        "        self.department = department\n",
        "\n",
        "    def __str__(self):\n",
        "        return f\"Manager(department={self.department})\"\n",
        "\n",
        "class Executive(Employee, Manager):\n",
        "    def __init__(self, name, salary, department, company_car, bonus):\n",
        "        Employee.__init__(self, name, salary)\n",
        "        Manager.__init__(self, department)\n",
        "        self.company_car = company_car\n",
        "        self.bonus = bonus\n",
        "\n",
        "    def __str__(self):\n",
        "        return (f\"Executive(name={self.name}, salary={self.salary}, department={self.department}, \"\n",
        "                f\"company_car={self.company_car}, bonus={self.bonus})\")\n",
        "\n",
        "# Example usage\n",
        "if __name__ == \"__main__\":\n",
        "    executive = Executive(name=\"Alice\", salary=120000, department=\"Finance\", company_car=\"Tesla Model S\", bonus=15000)\n",
        "    print(executive)  # Output: Executive(name=Alice, salary=120000, department=Finance, company_car=Tesla Model S, bonus=15000)\n"
      ],
      "metadata": {
        "colab": {
          "base_uri": "https://localhost:8080/"
        },
        "id": "2x5JlsBUp2HQ",
        "outputId": "194d1297-cf4e-48ef-e693-cc6bcd97a0f7"
      },
      "execution_count": 24,
      "outputs": [
        {
          "output_type": "stream",
          "name": "stdout",
          "text": [
            "Executive(name=Alice, salary=120000, department=Finance, company_car=Tesla Model S, bonus=15000)\n"
          ]
        }
      ]
    },
    {
      "cell_type": "code",
      "source": [
        "class Person:\n",
        "    def __init__(self, name, age):\n",
        "        self.name = name\n",
        "        self.age = age\n",
        "\n",
        "    def set_name(self, name):\n",
        "        \"\"\"Set the name of the person and return the instance.\"\"\"\n",
        "        self.name = name\n",
        "        return self\n",
        "\n",
        "    def set_age(self, age):\n",
        "        \"\"\"Set the age of the person and return the instance.\"\"\"\n",
        "        self.age = age\n",
        "        return self\n",
        "\n",
        "    def get_person_info(self):\n",
        "        \"\"\"Return the information about the person.\"\"\"\n",
        "        return f\"Person(name={self.name}, age={self.age})\"\n",
        "\n",
        "# Example usage\n",
        "if __name__ == \"__main__\":\n",
        "    person = Person(name=\"John\", age=30)\n",
        "\n",
        "    # Using method chaining to set name and age\n",
        "    person.set_name(\"Jane\").set_age(25)\n",
        "\n",
        "    # Getting the person's information\n",
        "    print(person.get_person_info())  # Output: Person(name=Jane, age=25)"
      ],
      "metadata": {
        "colab": {
          "base_uri": "https://localhost:8080/"
        },
        "id": "DolWV8VYsI9s",
        "outputId": "4501ba59-1569-4e29-a21d-5a0b6cb9cc3a"
      },
      "execution_count": 26,
      "outputs": [
        {
          "output_type": "stream",
          "name": "stdout",
          "text": [
            "Person(name=Jane, age=25)\n"
          ]
        }
      ]
    }
  ]
}