{
  "nbformat": 4,
  "nbformat_minor": 0,
  "metadata": {
    "colab": {
      "provenance": []
    },
    "kernelspec": {
      "name": "python3",
      "display_name": "Python 3"
    },
    "language_info": {
      "name": "python"
    }
  },
  "cells": [
    {
      "cell_type": "code",
      "execution_count": 12,
      "metadata": {
        "colab": {
          "base_uri": "https://localhost:8080/"
        },
        "id": "sAYw1yoAg2ib",
        "outputId": "9ef9481c-bd96-4bd4-c247-f959a6451381"
      },
      "outputs": [
        {
          "output_type": "stream",
          "name": "stdout",
          "text": [
            "Hello, python\n"
          ]
        }
      ],
      "source": [
        "#Complete the code to print out Hello Python! in a formatted string\n",
        "\n",
        "message = \"Python\"\n",
        "Greeting = \"Hello, {}\"\n",
        "print(Greeting.format( \"python\"))"
      ]
    },
    {
      "cell_type": "code",
      "source": [
        "a = 5\n",
        "b = 10\n",
        "\n",
        "# perform addition expected output is 15\n",
        "addition = a + b\n",
        "print(addition)\n",
        "\n",
        "\n",
        "\n"
      ],
      "metadata": {
        "colab": {
          "base_uri": "https://localhost:8080/"
        },
        "id": "L4yXdb7qKaOh",
        "outputId": "228cc5fd-992a-496a-ab67-05d4d12ea5c9"
      },
      "execution_count": 15,
      "outputs": [
        {
          "output_type": "stream",
          "name": "stdout",
          "text": [
            "15\n"
          ]
        }
      ]
    },
    {
      "cell_type": "code",
      "source": [
        "a = \"5\"\n",
        "b = \"10\"\n",
        "\n",
        "# perform concatenation expected output is 510\n",
        "concatenation = a + b\n",
        "print(concatenation)\n"
      ],
      "metadata": {
        "colab": {
          "base_uri": "https://localhost:8080/"
        },
        "id": "z-Ngav_NK6I8",
        "outputId": "8c34032d-8182-455c-958d-29d8db02bb87"
      },
      "execution_count": 16,
      "outputs": [
        {
          "output_type": "stream",
          "name": "stdout",
          "text": [
            "510\n"
          ]
        }
      ]
    },
    {
      "cell_type": "code",
      "source": [
        "# extract domain from email\n",
        "\n",
        "email = \"python_dev@estarta.com\"\n",
        "\n",
        "domain = \"estarta.com\"\n",
        "print(domain)"
      ],
      "metadata": {
        "colab": {
          "base_uri": "https://localhost:8080/"
        },
        "id": "nQmJsKn_KN0Y",
        "outputId": "d8fa162f-a8de-486a-dd97-68f2362bbecc"
      },
      "execution_count": 17,
      "outputs": [
        {
          "output_type": "stream",
          "name": "stdout",
          "text": [
            "estarta.com\n"
          ]
        }
      ]
    },
    {
      "cell_type": "code",
      "source": [
        "cars = [\"Toyota\", \"Mercedes\", \"BMW\", \"Jeep\"]\n",
        "\n",
        "# add \"Honda\" to the list\n",
        "\n",
        "cars = [\"Toyota\", \"Mercedes\", \"BMW\", \"Jeep\" , \"Honda\"]\n",
        "\n",
        "print(cars)"
      ],
      "metadata": {
        "colab": {
          "base_uri": "https://localhost:8080/"
        },
        "id": "ijM6LvscMN3Z",
        "outputId": "27e8a0d1-97d2-4fdf-8b1b-4ce48fe11d5d"
      },
      "execution_count": 21,
      "outputs": [
        {
          "output_type": "stream",
          "name": "stdout",
          "text": [
            "['Toyota', 'Mercedes', 'BMW', 'Jeep', 'Honda']\n"
          ]
        }
      ]
    },
    {
      "cell_type": "code",
      "source": [
        "cars = [\"Toyota\", \"Mercedes\", \"BMW\", \"Jeep\"]\n",
        "\n",
        "# replace the second element with \"Ford\"\n",
        "\n",
        "cars[1] = \"Ford\"\n",
        "\n",
        "print(cars)"
      ],
      "metadata": {
        "colab": {
          "base_uri": "https://localhost:8080/"
        },
        "id": "B5C2p0TYNwG4",
        "outputId": "9f1897f8-9cff-4685-e447-01b5d698d43f"
      },
      "execution_count": 22,
      "outputs": [
        {
          "output_type": "stream",
          "name": "stdout",
          "text": [
            "['Toyota', 'Ford', 'BMW', 'Jeep']\n"
          ]
        }
      ]
    },
    {
      "cell_type": "code",
      "source": [
        "cars = [\"Toyota\", \"Mercedes\", \"BMW\", \"Jeep\"]\n",
        "\n",
        "# remove Toyota from the list\n",
        "\n",
        "cars.remove(\"Toyota\")\n",
        "\n",
        "print(cars)\n",
        "\n"
      ],
      "metadata": {
        "colab": {
          "base_uri": "https://localhost:8080/"
        },
        "id": "ng_REaqYN4-m",
        "outputId": "7303cec2-7c5f-4a24-e883-f153011a3d45"
      },
      "execution_count": 23,
      "outputs": [
        {
          "output_type": "stream",
          "name": "stdout",
          "text": [
            "['Mercedes', 'BMW', 'Jeep']\n"
          ]
        }
      ]
    },
    {
      "cell_type": "code",
      "source": [
        "cars = [\"Toyota\", \"Mercedes\", \"BMW\", \"Jeep\", \"Honda\"]\n",
        "\n",
        "# check if Subaru is in the list\n",
        "is_subaru_in_list = \"Subaru\" in cars\n",
        "print(is_subaru_in_list)"
      ],
      "metadata": {
        "colab": {
          "base_uri": "https://localhost:8080/"
        },
        "id": "yeXLEl5nTqXR",
        "outputId": "877d4e3c-6e09-4862-f7ec-80ed0474f548"
      },
      "execution_count": 24,
      "outputs": [
        {
          "output_type": "stream",
          "name": "stdout",
          "text": [
            "False\n"
          ]
        }
      ]
    },
    {
      "cell_type": "code",
      "source": [
        "#Create a new dictionary with the following key-value pairs: \"name\": \"Ahmad\", \"age\": 25, \"occupation\": \"doctor\", \"country\": \"Jordan\"\n",
        "\n",
        "person = { \"name\": \"Ahmad\", \"age\": 25, \"occupation\": \"doctor\", \"country\": \"Jordan\"}\n",
        "\n",
        "\n",
        "print(person)"
      ],
      "metadata": {
        "colab": {
          "base_uri": "https://localhost:8080/"
        },
        "id": "AK0dgC4xUKIf",
        "outputId": "e5492b5b-bc04-426b-ba37-3a682705c469"
      },
      "execution_count": 25,
      "outputs": [
        {
          "output_type": "stream",
          "name": "stdout",
          "text": [
            "{'name': 'Ahmad', 'age': 25, 'occupation': 'doctor', 'country': 'Jordan'}\n"
          ]
        }
      ]
    },
    {
      "cell_type": "code",
      "source": [
        "#Add a new key-value pair with \"city\": \"Amman\"\n",
        "person = { \"name\": \"Ahmad\", \"age\": 25, \"occupation\": \"doctor\", \"country\": \"Jordan\" , \"City\": \"Amman\" }\n",
        "\n",
        "\n",
        "print(person)\n"
      ],
      "metadata": {
        "colab": {
          "base_uri": "https://localhost:8080/"
        },
        "id": "twDawgucUhxt",
        "outputId": "be6687c5-8529-4c24-ee90-347d7e7cf6df"
      },
      "execution_count": 26,
      "outputs": [
        {
          "output_type": "stream",
          "name": "stdout",
          "text": [
            "{'name': 'Ahmad', 'age': 25, 'occupation': 'doctor', 'country': 'Jordan', 'City': 'Amman'}\n"
          ]
        }
      ]
    },
    {
      "cell_type": "code",
      "source": [
        "#Update the occupation to \"Surgeon\"\n",
        "\n",
        "person = { \"name\": \"Ahmad\", \"age\": 25, \"occupation\": \"doctor\", \"country\": \"Jordan\" , \"City\": \"Amman\" }\n",
        "\n",
        "person[\"occupation\"] = \"Surgeon\"\n",
        "\n",
        "print(person)"
      ],
      "metadata": {
        "colab": {
          "base_uri": "https://localhost:8080/"
        },
        "id": "9bwp4r6jUyWa",
        "outputId": "db0c85cf-f8de-49c4-e749-48a35595c4d1"
      },
      "execution_count": 27,
      "outputs": [
        {
          "output_type": "stream",
          "name": "stdout",
          "text": [
            "{'name': 'Ahmad', 'age': 25, 'occupation': 'Surgeon', 'country': 'Jordan', 'City': 'Amman'}\n"
          ]
        }
      ]
    },
    {
      "cell_type": "code",
      "source": [
        "#Remove the \"country\" key-value pair from the dictionary.\n",
        "\n",
        "person = { \"name\": \"Ahmad\", \"age\": 25, \"occupation\": \"doctor\", \"country\": \"Jordan\" , \"City\": \"Amman\" }\n",
        "\n",
        "del person[\"country\"]\n",
        "\n",
        "#updated dictionary\n",
        "\n",
        "print(person)"
      ],
      "metadata": {
        "colab": {
          "base_uri": "https://localhost:8080/"
        },
        "id": "AXt0TGXnUZJC",
        "outputId": "042aaa11-cd47-4cb4-cc68-c2c033d45536"
      },
      "execution_count": 34,
      "outputs": [
        {
          "output_type": "stream",
          "name": "stdout",
          "text": [
            "{'name': 'Ahmad', 'age': 25, 'occupation': 'doctor', 'City': 'Amman'}\n"
          ]
        }
      ]
    },
    {
      "cell_type": "code",
      "source": [
        "#Check if 4 is in the set\n",
        "\n",
        "numbers = {2, 5, 16, 8, 7, 9, 3, 1}\n",
        "\n",
        "# your code here\n",
        "\n",
        "print(4 in numbers)\n",
        "\n"
      ],
      "metadata": {
        "colab": {
          "base_uri": "https://localhost:8080/"
        },
        "id": "wl3fgPaDWvJT",
        "outputId": "78e30731-e3d6-448c-d9e9-31762e3f3c25"
      },
      "execution_count": 37,
      "outputs": [
        {
          "output_type": "stream",
          "name": "stdout",
          "text": [
            "False\n"
          ]
        }
      ]
    },
    {
      "cell_type": "code",
      "source": [
        "#Add 5 to the set\n",
        "\n",
        "numbers = {2, 5, 16, 8, 7, 9, 3, 1}\n",
        "\n",
        "numbers.add(5)\n",
        "\n",
        "print(numbers)"
      ],
      "metadata": {
        "colab": {
          "base_uri": "https://localhost:8080/"
        },
        "id": "5WbpfQZ6Xks5",
        "outputId": "ac2204ad-e632-49fc-a824-0816565f6a30"
      },
      "execution_count": 38,
      "outputs": [
        {
          "output_type": "stream",
          "name": "stdout",
          "text": [
            "{1, 2, 3, 5, 7, 8, 9, 16}\n"
          ]
        }
      ]
    },
    {
      "cell_type": "code",
      "source": [
        "#Remove 3 from the set\n",
        "\n",
        "numbers = {2, 5, 16, 8, 7, 9, 3, 1}\n",
        "\n",
        "numbers.remove(3)\n",
        "\n",
        "print(numbers)\n"
      ],
      "metadata": {
        "colab": {
          "base_uri": "https://localhost:8080/"
        },
        "id": "3ROTQbhtX_RX",
        "outputId": "9a7e4e14-9cb0-46fe-febd-f5bf62445f0c"
      },
      "execution_count": 39,
      "outputs": [
        {
          "output_type": "stream",
          "name": "stdout",
          "text": [
            "{1, 2, 5, 7, 8, 9, 16}\n"
          ]
        }
      ]
    },
    {
      "cell_type": "code",
      "source": [
        "#Add 5 to the set\n",
        "\n",
        "#sets do not allow duplicate elements, so adding 5 again will not change the set since 5 is already present\n",
        "\n",
        "numbers = {2, 5, 16, 8, 7, 9, 3, 1}\n",
        "\n",
        "numbers.add(5)\n",
        "\n",
        "print(numbers)"
      ],
      "metadata": {
        "colab": {
          "base_uri": "https://localhost:8080/"
        },
        "id": "b1EH1jopYRJM",
        "outputId": "6d321b20-9207-452c-fbe1-921edec120c6"
      },
      "execution_count": 40,
      "outputs": [
        {
          "output_type": "stream",
          "name": "stdout",
          "text": [
            "{1, 2, 3, 5, 7, 8, 9, 16}\n"
          ]
        }
      ]
    },
    {
      "cell_type": "code",
      "source": [
        "#Create a new set that contains numbers from in the range of m+1 to m+10, where m is the maximum number in the \"numbers\" set\n",
        "\n",
        "numbers = {2, 5, 16, 8, 7, 9, 3, 1}\n",
        "\n",
        "# Find the maximum number in the set\n",
        "m = max(numbers)\n",
        "\n",
        "# Create a new set with numbers from m+1 to m+10\n",
        "set2 = set(range(m + 1, m + 11))\n",
        "\n",
        "# Print the new set\n",
        "print(set2)"
      ],
      "metadata": {
        "colab": {
          "base_uri": "https://localhost:8080/"
        },
        "id": "ZzMb29zNZCAx",
        "outputId": "75f7c20e-4e45-46b7-ab6d-927ee1aa1c1d"
      },
      "execution_count": 41,
      "outputs": [
        {
          "output_type": "stream",
          "name": "stdout",
          "text": [
            "{17, 18, 19, 20, 21, 22, 23, 24, 25, 26}\n"
          ]
        }
      ]
    }
  ]
}