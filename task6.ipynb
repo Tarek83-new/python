{
  "nbformat": 4,
  "nbformat_minor": 0,
  "metadata": {
    "colab": {
      "provenance": []
    },
    "kernelspec": {
      "name": "python3",
      "display_name": "Python 3"
    },
    "language_info": {
      "name": "python"
    }
  },
  "cells": [
    {
      "cell_type": "code",
      "execution_count": 1,
      "metadata": {
        "colab": {
          "base_uri": "https://localhost:8080/"
        },
        "id": "NTUzZ5pP8mjZ",
        "outputId": "f51692cc-b4b9-4b80-8a1d-9aa86dc258d2"
      },
      "outputs": [
        {
          "output_type": "stream",
          "name": "stdout",
          "text": [
            "Numbers from 1 to 10 have been written to numbers.txt\n"
          ]
        }
      ],
      "source": [
        "def write_numbers_to_file(filename):\n",
        "    with open(filename, 'w') as file:\n",
        "        for number in range(1, 11):\n",
        "            file.write(f\"{number}\\n\")\n",
        "\n",
        "if __name__ == \"__main__\":\n",
        "    write_numbers_to_file(\"numbers.txt\")\n",
        "    print(\"Numbers from 1 to 10 have been written to numbers.txt\")"
      ]
    },
    {
      "cell_type": "code",
      "source": [
        "def append_input_to_file(filename):\n",
        "    with open(filename, 'a') as file:\n",
        "        while True:\n",
        "            user_input = input(\"Enter text (type 'stop' to end): \")\n",
        "            if user_input.lower() == 'stop':\n",
        "                break\n",
        "            file.write(f\"{user_input}\\n\")\n",
        "\n",
        "if __name__ == \"__main__\":\n",
        "    append_input_to_file(\"user_input.txt\")\n",
        "    print(\"User input has been appended to user_input.txt\")"
      ],
      "metadata": {
        "colab": {
          "base_uri": "https://localhost:8080/"
        },
        "id": "w9eI8Cjf9myK",
        "outputId": "e2f04e49-10bd-4e41-dd3d-9471f12a3012"
      },
      "execution_count": 2,
      "outputs": [
        {
          "output_type": "stream",
          "name": "stdout",
          "text": [
            "Enter text (type 'stop' to end): 10\n",
            "Enter text (type 'stop' to end): stop\n",
            "User input has been appended to user_input.txt\n"
          ]
        }
      ]
    },
    {
      "cell_type": "code",
      "source": [
        "import pickle\n",
        "\n",
        "# The dictionary to be pickled\n",
        "book = {\"title\": \"Head First Python\", \"author\": \"Paul Barry\", \"price\": \"50 USD\"}\n",
        "\n",
        "# Function to pickle the dictionary and save it to a file\n",
        "def save_book_to_file(book, filename):\n",
        "    with open(filename, 'wb') as file:\n",
        "        pickle.dump(book, file)\n",
        "    print(f\"Dictionary has been pickled and saved to {filename}\")\n",
        "\n",
        "# Function to load the dictionary from a file\n",
        "def load_book_from_file(filename):\n",
        "    with open(filename, 'rb') as file:\n",
        "        book = pickle.load(file)\n",
        "    return book\n",
        "\n",
        "if __name__ == \"__main__\":\n",
        "    filename = \"book.pkl\"\n",
        "\n",
        "    # Save the dictionary to a file\n",
        "    save_book_to_file(book, filename)\n",
        "\n",
        "    # Load the dictionary back from the file\n",
        "    loaded_book = load_book_from_file(filename)\n",
        "\n",
        "    # Print the loaded dictionary\n",
        "    print(\"Loaded dictionary from file:\")\n",
        "    print(loaded_book)"
      ],
      "metadata": {
        "colab": {
          "base_uri": "https://localhost:8080/"
        },
        "id": "1jycwoyY-VzF",
        "outputId": "7cc014dc-503d-48e9-e663-9fa02cf0a248"
      },
      "execution_count": 3,
      "outputs": [
        {
          "output_type": "stream",
          "name": "stdout",
          "text": [
            "Dictionary has been pickled and saved to book.pkl\n",
            "Loaded dictionary from file:\n",
            "{'title': 'Head First Python', 'author': 'Paul Barry', 'price': '50 USD'}\n"
          ]
        }
      ]
    }
  ]
}