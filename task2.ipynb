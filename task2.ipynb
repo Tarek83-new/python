{
  "nbformat": 4,
  "nbformat_minor": 0,
  "metadata": {
    "colab": {
      "provenance": []
    },
    "kernelspec": {
      "name": "python3",
      "display_name": "Python 3"
    },
    "language_info": {
      "name": "python"
    }
  },
  "cells": [
    {
      "cell_type": "code",
      "source": [
        "def calculate(int1: int, int2: int):\n",
        "    \"\"\"This function takes two integers and prints their sum, difference, and product.\n",
        "    parameters:\n",
        "        int1 -> int\n",
        "        int2 -> int\n",
        "    returns:\n",
        "        None\n",
        "    \"\"\"\n",
        "    # Calculate the sum\n",
        "    sum_result = int1 + int2\n",
        "\n",
        "    # Calculate the difference\n",
        "    difference_result = int1 - int2\n",
        "\n",
        "    # Calculate the product\n",
        "    product_result = int1 * int2\n",
        "\n",
        "    # Print the results\n",
        "    print(f\"Sum: {sum_result}\")\n",
        "    print(f\"Difference: {difference_result}\")\n",
        "    print(f\"Product: {product_result}\")\n",
        "\n",
        "# Example usage\n",
        "calculate(3, 9)"
      ],
      "metadata": {
        "colab": {
          "base_uri": "https://localhost:8080/"
        },
        "id": "MyN3eSssfT_8",
        "outputId": "99116b95-1cb2-48cf-bd2a-4ab19772cd96"
      },
      "execution_count": null,
      "outputs": [
        {
          "output_type": "stream",
          "name": "stdout",
          "text": [
            "Sum: 12\n",
            "Difference: -6\n",
            "Product: 27\n"
          ]
        }
      ]
    },
    {
      "cell_type": "code",
      "source": [
        "def fizzbuzz():\n",
        "    \"\"\"This function prints the numbers from 1 to 50 with the following rules:\n",
        "    - For multiples of three, print \"Fizz\" instead of the number.\n",
        "    - For multiples of five, print \"Buzz\" instead of the number.\n",
        "    - For numbers that are multiples of both three and five, print \"FizzBuzz\".\n",
        "    \"\"\"\n",
        "    for i in range(1, 51):\n",
        "        if i % 3 == 0 and i % 5 == 0:\n",
        "            print(\"FizzBuzz\")\n",
        "        elif i % 3 == 0:\n",
        "            print(\"Fizz\")\n",
        "        elif i % 5 == 0:\n",
        "            print(\"Buzz\")\n",
        "        else:\n",
        "            print(i)\n",
        "\n",
        "# Call the function\n",
        "fizzbuzz()"
      ],
      "metadata": {
        "id": "2Heyfdsufew8",
        "colab": {
          "base_uri": "https://localhost:8080/"
        },
        "outputId": "d9935e54-d81e-4377-c386-b67f125007e9"
      },
      "execution_count": 1,
      "outputs": [
        {
          "output_type": "stream",
          "name": "stdout",
          "text": [
            "1\n",
            "2\n",
            "Fizz\n",
            "4\n",
            "Buzz\n",
            "Fizz\n",
            "7\n",
            "8\n",
            "Fizz\n",
            "Buzz\n",
            "11\n",
            "Fizz\n",
            "13\n",
            "14\n",
            "FizzBuzz\n",
            "16\n",
            "17\n",
            "Fizz\n",
            "19\n",
            "Buzz\n",
            "Fizz\n",
            "22\n",
            "23\n",
            "Fizz\n",
            "Buzz\n",
            "26\n",
            "Fizz\n",
            "28\n",
            "29\n",
            "FizzBuzz\n",
            "31\n",
            "32\n",
            "Fizz\n",
            "34\n",
            "Buzz\n",
            "Fizz\n",
            "37\n",
            "38\n",
            "Fizz\n",
            "Buzz\n",
            "41\n",
            "Fizz\n",
            "43\n",
            "44\n",
            "FizzBuzz\n",
            "46\n",
            "47\n",
            "Fizz\n",
            "49\n",
            "Buzz\n"
          ]
        }
      ]
    },
    {
      "cell_type": "code",
      "source": [
        "from typing import List\n",
        "\n",
        "def factorial(n: int) -> int:\n",
        "    \"\"\"Calculate the factorial of a given number n.\n",
        "    parameters:\n",
        "        n -> int: The number to calculate the factorial of.\n",
        "    returns:\n",
        "        int: The factorial of the number n.\n",
        "    \"\"\"\n",
        "    if n == 0 or n == 1:\n",
        "        return 1\n",
        "    else:\n",
        "        return n * factorial(n - 1)\n",
        "\n",
        "def list_factorial(numbers: List[int]) -> List[int]:\n",
        "    \"\"\"Calculate the factorials of a list of numbers.\n",
        "    parameters:\n",
        "        numbers -> List[int]: A list of numbers to calculate the factorials of.\n",
        "    returns:\n",
        "        List[int]: A list of factorials of the input numbers.\n",
        "    \"\"\"\n",
        "    return [factorial(n) for n in numbers]"
      ],
      "metadata": {
        "id": "wO8oPnjPgtIb"
      },
      "execution_count": null,
      "outputs": []
    },
    {
      "cell_type": "code",
      "source": [
        "def is_prime(n: int) -> bool:\n",
        "    \"\"\"Check if a number is prime.\n",
        "    parameters:\n",
        "        n -> int: The number to check.\n",
        "    returns:\n",
        "        bool: True if the number is prime, False otherwise.\n",
        "    \"\"\"\n",
        "    if n <= 1:\n",
        "        return False\n",
        "    if n <= 3:\n",
        "        return True\n",
        "    if n % 2 == 0 or n % 3 == 0:\n",
        "        return False\n",
        "    i = 5\n",
        "    while i * i <= n:\n",
        "        if n % i == 0 or n % (i + 2) == 0:\n",
        "            return False\n",
        "        i += 6\n",
        "    return True\n",
        "\n",
        "# Example usage\n",
        "print(is_prime(7))  # Output: True\n",
        "print(is_prime(8))  # Output: False\n",
        "print(is_prime(1))"
      ],
      "metadata": {
        "colab": {
          "base_uri": "https://localhost:8080/"
        },
        "id": "Jg3Tv5HgkWuc",
        "outputId": "22811e4a-403f-4eb1-bc0a-930051702837"
      },
      "execution_count": 5,
      "outputs": [
        {
          "output_type": "stream",
          "name": "stdout",
          "text": [
            "True\n",
            "False\n",
            "False\n"
          ]
        }
      ]
    },
    {
      "cell_type": "code",
      "source": [
        "# Create and write to the math_utils.py file\n",
        "with open('/content/math_utils.py', 'w') as f:\n",
        "    f.write('''\n",
        "def add(a: float, b: float) -> float:\n",
        "    \"\"\"Return the sum of two numbers.\n",
        "    parameters:\n",
        "        a -> float: The first number.\n",
        "        b -> float: The second number.\n",
        "    returns:\n",
        "        float: The sum of the two numbers.\n",
        "    \"\"\"\n",
        "    return a + b\n",
        "\n",
        "def subtract(a: float, b: float) -> float:\n",
        "    \"\"\"Return the difference between two numbers.\n",
        "    parameters:\n",
        "        a -> float: The first number.\n",
        "        b -> float: The second number.\n",
        "    returns:\n",
        "        float: The difference between the two numbers.\n",
        "    \"\"\"\n",
        "    return a - b\n",
        "\n",
        "def multiply(a: float, b: float) -> float:\n",
        "    \"\"\"Return the product of two numbers.\n",
        "    parameters:\n",
        "        a -> float: The first number.\n",
        "        b -> float: The second number.\n",
        "    returns:\n",
        "        float: The product of the two numbers.\n",
        "    \"\"\"\n",
        "    return a * b\n",
        "\n",
        "def divide(a: float, b: float) -> float:\n",
        "    \"\"\"Return the division of two numbers.\n",
        "    parameters:\n",
        "        a -> float: The first number.\n",
        "        b -> float: The second number.\n",
        "    returns:\n",
        "        float: The division of the two numbers.\n",
        "    \"\"\"\n",
        "    if b == 0:\n",
        "        raise ValueError(\"Cannot divide by zero.\")\n",
        "    return a / b\n",
        "    ''')"
      ],
      "metadata": {
        "id": "gPnqsgpFk_aq"
      },
      "execution_count": 6,
      "outputs": []
    },
    {
      "cell_type": "code",
      "source": [
        "import os\n",
        "print(os.listdir('/content'))"
      ],
      "metadata": {
        "colab": {
          "base_uri": "https://localhost:8080/"
        },
        "id": "wEFnMQmMlGsT",
        "outputId": "6bb59191-823e-4747-c0e4-963286413f66"
      },
      "execution_count": null,
      "outputs": [
        {
          "output_type": "stream",
          "name": "stdout",
          "text": [
            "['.config', 'math_utils.py', 'sample_data']\n"
          ]
        }
      ]
    },
    {
      "cell_type": "code",
      "source": [
        "# Import the module\n",
        "import math_utils\n",
        "\n",
        "# Define the numbers\n",
        "a = 10\n",
        "b = 5\n",
        "\n",
        "# Test the functions\n",
        "print(f\"Addition: {math_utils.add(a, b)}\")\n",
        "print(f\"Subtraction: {math_utils.subtract(a, b)}\")\n",
        "print(f\"Multiplication: {math_utils.multiply(a, b)}\")\n",
        "print(f\"Division: {math_utils.divide(a, b)}\")"
      ],
      "metadata": {
        "colab": {
          "base_uri": "https://localhost:8080/"
        },
        "id": "z-TEPMIGlMC-",
        "outputId": "502b26a4-7620-4a98-d122-c1223e96aac1"
      },
      "execution_count": null,
      "outputs": [
        {
          "output_type": "stream",
          "name": "stdout",
          "text": [
            "Addition: 15\n",
            "Subtraction: 5\n",
            "Multiplication: 50\n",
            "Division: 2.0\n"
          ]
        }
      ]
    },
    {
      "cell_type": "code",
      "source": [
        "def is_prime(n: int) -> bool:\n",
        "    \"\"\"Check if a number is prime.\n",
        "    parameters:\n",
        "        n -> int: The number to check.\n",
        "    returns:\n",
        "        bool: True if the number is prime, False otherwise.\n",
        "    \"\"\"\n",
        "    if n <= 1:\n",
        "        return False\n",
        "    if n <= 3:\n",
        "        return True\n",
        "    if n % 2 == 0 or n % 3 == 0:\n",
        "        return False\n",
        "    i = 5\n",
        "    while i * i <= n:\n",
        "        if n % i == 0 or n % (i + 2) == 0:\n",
        "            return False\n",
        "        i += 6\n",
        "    return True\n",
        "\n",
        "def count_primes_up_to(n: int) -> int:\n",
        "    \"\"\"Count the number of prime numbers up to a given number.\n",
        "    parameters:\n",
        "        n -> int: The upper limit to count prime numbers.\n",
        "    returns:\n",
        "        int: The number of prime numbers up to n.\n",
        "    \"\"\"\n",
        "    count = 0\n",
        "    for i in range(2, n + 1):\n",
        "        if is_prime(i):\n",
        "            count += 1\n",
        "    return count\n",
        "\n",
        "def main():\n",
        "    \"\"\"Main function to prompt user input and print the number of prime numbers up to the entered number.\"\"\"\n",
        "    try:\n",
        "        number = int(input(\"Enter a number: \"))\n",
        "        prime_count = count_primes_up_to(number)\n",
        "        print(f\"The number of prime numbers up to {number} is: {prime_count}\")\n",
        "    except ValueError:\n",
        "        print(\"Please enter a valid integer.\")\n",
        "\n",
        "if __name__ == \"__main__\":\n",
        "    main()"
      ],
      "metadata": {
        "colab": {
          "base_uri": "https://localhost:8080/"
        },
        "id": "f7hT5eNahTYl",
        "outputId": "9064045b-fd20-464e-9be5-5c16482ed00b"
      },
      "execution_count": 10,
      "outputs": [
        {
          "output_type": "stream",
          "name": "stdout",
          "text": [
            "Enter a number: 1\n",
            "The number of prime numbers up to 1 is: 0\n"
          ]
        }
      ]
    }
  ]
}