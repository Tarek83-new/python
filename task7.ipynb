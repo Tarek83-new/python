{
  "nbformat": 4,
  "nbformat_minor": 0,
  "metadata": {
    "colab": {
      "provenance": []
    },
    "kernelspec": {
      "name": "python3",
      "display_name": "Python 3"
    },
    "language_info": {
      "name": "python"
    }
  },
  "cells": [
    {
      "cell_type": "code",
      "source": [
        "import pandas as pd"
      ],
      "metadata": {
        "id": "MqAP7UoH_c7r"
      },
      "execution_count": 4,
      "outputs": []
    },
    {
      "cell_type": "code",
      "source": [
        "df = pd.read_csv('/content/Employee_Salaries.csv')"
      ],
      "metadata": {
        "id": "F62MOEcg_eSw"
      },
      "execution_count": 5,
      "outputs": []
    },
    {
      "cell_type": "code",
      "source": [
        "average_salary = df['Base_Salary'].mean()\n",
        "print(f\"The average salary of all employees is: {average_salary}\")"
      ],
      "metadata": {
        "colab": {
          "base_uri": "https://localhost:8080/"
        },
        "id": "E2Mzv6Ox_mNA",
        "outputId": "3ea0fb61-7131-4d6a-a696-9fc4fc807de7"
      },
      "execution_count": 6,
      "outputs": [
        {
          "output_type": "stream",
          "name": "stdout",
          "text": [
            "The average salary of all employees is: 90312.16574420367\n"
          ]
        }
      ]
    },
    {
      "cell_type": "code",
      "source": [
        "department_avg_salary = df.groupby('Department')['Base_Salary'].mean()\n",
        "highest_avg_salary_department = department_avg_salary.idxmax()\n",
        "print(f\"The Department with the highest average salary is: {highest_avg_salary_department}\")"
      ],
      "metadata": {
        "colab": {
          "base_uri": "https://localhost:8080/"
        },
        "id": "8nbyw1yO_wFE",
        "outputId": "1ce945fe-777a-4e64-eeca-b53de7da5261"
      },
      "execution_count": 7,
      "outputs": [
        {
          "output_type": "stream",
          "name": "stdout",
          "text": [
            "The Department with the highest average salary is: IGR\n"
          ]
        }
      ]
    },
    {
      "cell_type": "code",
      "source": [
        "gender_avg_salary = df.groupby('Gender')['Base_Salary'].mean()\n",
        "print(\"The average salary of employees based on gender is:\")\n",
        "print(gender_avg_salary)"
      ],
      "metadata": {
        "colab": {
          "base_uri": "https://localhost:8080/"
        },
        "id": "eprl9iFD_zTv",
        "outputId": "0dc08b32-70f2-4ecd-cfef-dced4405cf82"
      },
      "execution_count": 8,
      "outputs": [
        {
          "output_type": "stream",
          "name": "stdout",
          "text": [
            "The average salary of employees based on gender is:\n",
            "Gender\n",
            "F    87497.502790\n",
            "M    92382.929752\n",
            "Name: Base_Salary, dtype: float64\n"
          ]
        }
      ]
    }
  ]
}