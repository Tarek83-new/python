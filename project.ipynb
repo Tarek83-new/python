{
  "nbformat": 4,
  "nbformat_minor": 0,
  "metadata": {
    "colab": {
      "provenance": []
    },
    "kernelspec": {
      "name": "python3",
      "display_name": "Python 3"
    },
    "language_info": {
      "name": "python"
    }
  },
  "cells": [
    {
      "cell_type": "code",
      "source": [
        "import requests\n",
        "\n",
        "class WeatherAPI:\n",
        "    def __init__(self, api_key):\n",
        "        self.api_key = api_key\n",
        "        self.base_url = \"http://api.openweathermap.org/data/2.5/weather\"\n",
        "\n",
        "    def get_weather(self, city):\n",
        "        params = {\n",
        "            'q': city,\n",
        "            'appid': self.api_key,\n",
        "            'units': 'metric'\n",
        "        }\n",
        "        response = requests.get(self.base_url, params=params)\n",
        "        if response.status_code == 401:\n",
        "            return {\"cod\": 401, \"message\": \"Invalid API key. Please see https://openweathermap.org/faq#error401 for more info.\"}\n",
        "        return response.json()\n",
        "\n",
        "class WeatherApp:\n",
        "    def __init__(self, api_key):\n",
        "        self.weather_api = WeatherAPI(api_key)\n",
        "\n",
        "    def display_weather(self, city):\n",
        "        weather_data = self.weather_api.get_weather(city)\n",
        "        if weather_data.get('cod') != 200:\n",
        "            print(f\"Error: {weather_data.get('message')}\")\n",
        "        else:\n",
        "            main = weather_data['main']\n",
        "            wind = weather_data['wind']\n",
        "            weather_desc = weather_data['weather'][0]['description']\n",
        "            print(f\"City: {city}\")\n",
        "            print(f\"Temperature: {main['temp']}°C\")\n",
        "            print(f\"Humidity: {main['humidity']}%\")\n",
        "            print(f\"Pressure: {main['pressure']} hPa\")\n",
        "            print(f\"Weather: {weather_desc}\")\n",
        "            print(f\"Wind Speed: {wind['speed']} m/s\")\n",
        "\n",
        "if __name__ == \"__main__\":\n",
        "    api_key = \"68c478cd0eb12e627e6a3312dc156b90\"  # Replace with your new OpenWeatherMap API key\n",
        "    app = WeatherApp(api_key)\n",
        "    city = input(\"Enter city name: \")\n",
        "    app.display_weather(city)"
      ],
      "metadata": {
        "colab": {
          "base_uri": "https://localhost:8080/"
        },
        "id": "grPPCJtNF7Vf",
        "outputId": "ae191be4-867c-483e-8bf9-be9ae7ef9938"
      },
      "execution_count": 14,
      "outputs": [
        {
          "output_type": "stream",
          "name": "stdout",
          "text": [
            "Enter city name: Amman\n",
            "City: Amman\n",
            "Temperature: 29.05°C\n",
            "Humidity: 32%\n",
            "Pressure: 1006 hPa\n",
            "Weather: clear sky\n",
            "Wind Speed: 5.14 m/s\n"
          ]
        }
      ]
    }
  ]
}