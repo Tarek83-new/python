{
  "nbformat": 4,
  "nbformat_minor": 0,
  "metadata": {
    "colab": {
      "provenance": []
    },
    "kernelspec": {
      "name": "python3",
      "display_name": "Python 3"
    },
    "language_info": {
      "name": "python"
    }
  },
  "cells": [
    {
      "cell_type": "code",
      "source": [
        "#Exercise 1\n",
        "\n",
        "import math\n",
        "\n",
        "class Point:\n",
        "    def __init__(self, x, y):\n",
        "        self.x = x\n",
        "        self.y = y\n",
        "\n",
        "    def distance(self, other_point):\n",
        "        \"\"\"Calculate the distance between this point and another point.\"\"\"\n",
        "        return math.sqrt((self.x - other_point.x) ** 2 + (self.y - other_point.y) ** 2)\n",
        "\n",
        "    def __str__(self):\n",
        "        \"\"\"Return a string representation of the point.\"\"\"\n",
        "        return f\"Point({self.x}, {self.y})\"\n",
        "\n",
        "# Example usage\n",
        "if __name__ == \"__main__\":\n",
        "    point1 = Point(3, 4)\n",
        "    point2 = Point(6, 8)\n",
        "\n",
        "    print(point1)  # Output: Point(3, 4)\n",
        "    print(point2)  # Output: Point(6, 8)\n",
        "\n",
        "    distance = point1.distance(point2)\n",
        "    print(f\"Distance between {point1} and {point2} is {distance:.2f}\")  # Output: Distance between Point(3, 4) and Point(6, 8) is 5.00"
      ],
      "metadata": {
        "colab": {
          "base_uri": "https://localhost:8080/"
        },
        "id": "OMpBDPWVfhGy",
        "outputId": "16fabd72-0053-4164-a98e-3120db8c40f3"
      },
      "execution_count": 1,
      "outputs": [
        {
          "output_type": "stream",
          "name": "stdout",
          "text": [
            "Point(3, 4)\n",
            "Point(6, 8)\n",
            "Distance between Point(3, 4) and Point(6, 8) is 5.00\n"
          ]
        }
      ]
    },
    {
      "cell_type": "code",
      "source": [
        "#Exercise 2\n",
        "\n",
        "class Point:\n",
        "    def __init__(self, x, y):\n",
        "        self.x = x\n",
        "        self.y = y\n",
        "\n",
        "    def distance(self, other_point):\n",
        "        \"\"\"Calculate the distance between this point and another point.\"\"\"\n",
        "        return math.sqrt((self.x - other_point.x) ** 2 + (self.y - other_point.y) ** 2)\n",
        "\n",
        "    def __str__(self):\n",
        "        \"\"\"Return a string representation of the point.\"\"\"\n",
        "        return f\"Point({self.x}, {self.y})\"\n",
        "\n",
        "class Line:\n",
        "    def __init__(self, point1, point2):\n",
        "        self.point1 = point1\n",
        "        self.point2 = point2\n",
        "\n",
        "    def length(self):\n",
        "        \"\"\"Calculate the length of the line.\"\"\"\n",
        "        return self.point1.distance(self.point2)\n",
        "\n",
        "    def slope(self):\n",
        "        \"\"\"Calculate the slope of the line.\"\"\"\n",
        "        if self.point2.x == self.point1.x:\n",
        "            raise ValueError(\"Slope is undefined for vertical lines.\")\n",
        "        return (self.point2.y - self.point1.y) / (self.point2.x - self.point1.x)\n",
        "\n",
        "    def point_on_line(self, point):\n",
        "        \"\"\"Check if a given point is on the line.\"\"\"\n",
        "        try:\n",
        "            slope = self.slope()\n",
        "        except ValueError:\n",
        "            # For vertical lines, check if x-coordinates are the same\n",
        "            return point.x == self.point1.x\n",
        "\n",
        "        # Check if the point satisfies the line equation y = mx + b\n",
        "        y_intercept = self.point1.y - slope * self.point1.x\n",
        "        return point.y == slope * point.x + y_intercept\n",
        "\n",
        "    def __str__(self):\n",
        "        \"\"\"Return a string representation of the line.\"\"\"\n",
        "        return f\"Line({self.point1}, {self.point2})\"\n",
        "\n",
        "# Example usage\n",
        "if __name__ == \"__main__\":\n",
        "    point1 = Point(1, 2)\n",
        "    point2 = Point(4, 6)\n",
        "    line = Line(point1, point2)\n",
        "\n",
        "    print(line)  # Output: Line(Point(1, 2), Point(4, 6))\n",
        "    print(f\"Length of the line: {line.length():.2f}\")  # Output: Length of the line: 5.00\n",
        "    print(f\"Slope of the line: {line.slope():.2f}\")  # Output: Slope of the line: 1.33\n",
        "\n",
        "    point3 = Point(2, 3)\n",
        "    print(f\"Is {point3} on the line? {line.point_on_line(point3)}\")  # Output: Is Point(2, 3) on the line? True\n",
        "\n",
        "    point4 = Point(3, 5)\n",
        "    print(f\"Is {point4} on the line? {line.point_on_line(point4)}\")  # Output: Is Point(3, 5) on the line? False"
      ],
      "metadata": {
        "colab": {
          "base_uri": "https://localhost:8080/"
        },
        "id": "UK10qcdSf9H4",
        "outputId": "b3dacb26-dbad-4d06-836e-64352c5882f6"
      },
      "execution_count": 2,
      "outputs": [
        {
          "output_type": "stream",
          "name": "stdout",
          "text": [
            "Line(Point(1, 2), Point(4, 6))\n",
            "Length of the line: 5.00\n",
            "Slope of the line: 1.33\n",
            "Is Point(2, 3) on the line? False\n",
            "Is Point(3, 5) on the line? False\n"
          ]
        }
      ]
    },
    {
      "cell_type": "code",
      "source": [
        "#Exercise 3\n",
        "\n",
        "import matplotlib.pyplot as plt\n",
        "\n",
        "class Point:\n",
        "    def __init__(self, x, y):\n",
        "        self.x = x\n",
        "        self.y = y\n",
        "\n",
        "    def distance(self, other_point):\n",
        "        \"\"\"Calculate the distance between this point and another point.\"\"\"\n",
        "        return math.sqrt((self.x - other_point.x) ** 2 + (self.y - other_point.y) ** 2)\n",
        "\n",
        "    def __str__(self):\n",
        "        \"\"\"Return a string representation of the point.\"\"\"\n",
        "        return f\"Point({self.x}, {self.y})\"\n",
        "\n",
        "class Line:\n",
        "    def __init__(self, point1, point2):\n",
        "        self.point1 = point1\n",
        "        self.point2 = point2\n",
        "\n",
        "    def length(self):\n",
        "        \"\"\"Calculate the length of the line.\"\"\"\n",
        "        return self.point1.distance(self.point2)\n",
        "\n",
        "    def slope(self):\n",
        "        \"\"\"Calculate the slope of the line.\"\"\"\n",
        "        if self.point2.x == self.point1.x:\n",
        "            raise ValueError(\"Slope is undefined for vertical lines.\")\n",
        "        return (self.point2.y - self.point1.y) / (self.point2.x - self.point1.x)\n",
        "\n",
        "    def point_on_line(self, point):\n",
        "        \"\"\"Check if a given point is on the line.\"\"\"\n",
        "        try:\n",
        "            slope = self.slope()\n",
        "        except ValueError:\n",
        "            # For vertical lines, check if x-coordinates are the same\n",
        "            return point.x == self.point1.x\n",
        "\n",
        "        # Check if the point satisfies the line equation y = mx + b\n",
        "        y_intercept = self.point1.y - slope * self.point1.x\n",
        "        return point.y == slope * point.x + y_intercept\n",
        "\n",
        "    def __str__(self):\n",
        "        \"\"\"Return a string representation of the line.\"\"\"\n",
        "        return f\"Line({self.point1}, {self.point2})\"\n",
        "\n",
        "def draw_lines(lines, color):\n",
        "    for line in lines:\n",
        "        plt.plot([line.point1.x, line.point2.x], [line.point1.y, line.point2.y], color)\n",
        "\n",
        "    plt.axis('equal')\n",
        "    plt.show()\n",
        "\n",
        "class Shape:\n",
        "    def __init__(self, lines):\n",
        "        self.lines = lines\n",
        "\n",
        "    def perimeter(self):\n",
        "        \"\"\"Calculate the perimeter of the shape.\"\"\"\n",
        "        return sum(line.length() for line in self.lines)\n",
        "\n",
        "    def draw(self, color='b'):\n",
        "        \"\"\"Draw the shape using matplotlib.\"\"\"\n",
        "        draw_lines(self.lines, color)\n",
        "\n",
        "    def point_on_perimeter(self, point):\n",
        "        \"\"\"Check if a given point is on the perimeter of the shape.\"\"\"\n",
        "        return any(line.point_on_line(point) for line in self.lines)\n",
        "\n",
        "    def __str__(self):\n",
        "        \"\"\"Return a string representation of the shape.\"\"\"\n",
        "        return f\"Shape with {len(self.lines)} lines\"\n",
        "\n",
        "# Example usage\n",
        "if __name__ == \"__main__\":\n",
        "    point1 = Point(0, 0)\n",
        "    point2 = Point(1, 0)\n",
        "    point3 = Point(1, 1)\n",
        "    point4 = Point(0, 1)\n",
        "\n",
        "    line1 = Line(point1, point2)\n",
        "    line2 = Line(point2, point3)\n",
        "    line3 = Line(point3, point4)\n",
        "    line4 = Line(point4, point1)\n",
        "\n",
        "    shape = Shape([line1, line2, line3, line4])\n",
        "\n",
        "    print(shape)  # Output: Shape with 4 lines\n",
        "    print(f\"Perimeter of the shape: {shape.perimeter():.2f}\")  # Output: Perimeter of the shape: 4.00\n",
        "\n",
        "    shape.draw(color='g')\n",
        "\n",
        "    point5 = Point(0.5, 0)\n",
        "    print(f\"Is {point5} on the perimeter? {shape.point_on_perimeter(point5)}\")  # Output: Is Point(0.5, 0) on the perimeter? True\n",
        "\n",
        "    point6 = Point(0.5, 0.5)\n",
        "    print(f\"Is {point6} on the perimeter? {shape.point_on_perimeter(point6)}\")  # Output: Is Point(0.5, 0.5) on the perimeter? False"
      ],
      "metadata": {
        "colab": {
          "base_uri": "https://localhost:8080/",
          "height": 499
        },
        "id": "-9EJRmc-g8iA",
        "outputId": "f1257164-55a1-4447-cdc3-7ea46f7c3108"
      },
      "execution_count": 3,
      "outputs": [
        {
          "output_type": "stream",
          "name": "stdout",
          "text": [
            "Shape with 4 lines\n",
            "Perimeter of the shape: 4.00\n"
          ]
        },
        {
          "output_type": "display_data",
          "data": {
            "text/plain": [
              "<Figure size 640x480 with 1 Axes>"
            ],
            "image/png": "[encoded data removed]"
          },
          "metadata": {}
        },
        {
          "output_type": "stream",
          "name": "stdout",
          "text": [
            "Is Point(0.5, 0) on the perimeter? True\n",
            "Is Point(0.5, 0.5) on the perimeter? False\n"
          ]
        }
      ]
    },
    {
      "cell_type": "code",
      "source": [],
      "metadata": {
        "id": "-BS-ZK59hhkW"
      },
      "execution_count": null,
      "outputs": []
    }
  ]
}